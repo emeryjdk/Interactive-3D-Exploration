{
 "cells": [
  {
   "cell_type": "markdown",
   "metadata": {
    "extensions": {
     "jupyter_dashboards": {
      "version": 1,
      "views": {
       "grid_default": {
        "col": 0,
        "height": 5,
        "hidden": false,
        "row": 0,
        "width": 5
       },
       "report_default": {}
      }
     }
    }
   },
   "source": [
    "# `ipyvolume` Creation of Instructional Crystal Structures\n",
    "\n",
    "A sparse-sphere representation of a simple cubic structure.\n",
    "\n",
    "Load up `ipyvolume.pylab`, `numpy`, and `ipywidgets`"
   ]
  },
  {
   "cell_type": "code",
   "execution_count": null,
   "metadata": {
    "extensions": {
     "jupyter_dashboards": {
      "version": 1,
      "views": {
       "grid_default": {
        "hidden": true
       },
       "report_default": {}
      }
     }
    }
   },
   "outputs": [],
   "source": [
    "import ipywidgets as widgets\n",
    "import ipyvolume as ipv\n",
    "import ipyvolume.pylab as p3\n",
    "import numpy as np\n",
    "from scipy import special\n",
    "import seaborn as sns #For stylez."
   ]
  },
  {
   "cell_type": "markdown",
   "metadata": {
    "extensions": {
     "jupyter_dashboards": {
      "version": 1,
      "views": {
       "grid_default": {
        "col": 0,
        "height": 6,
        "hidden": false,
        "row": 5,
        "width": 5
       },
       "report_default": {}
      }
     }
    }
   },
   "source": [
    "We can define an array which gives us a simple cubic crystal structure. I can then define a widget that allows me to change the size of the \"atoms\"."
   ]
  },
  {
   "cell_type": "markdown",
   "metadata": {},
   "source": [
    "## Construct Example Crystal Structure"
   ]
  },
  {
   "cell_type": "markdown",
   "metadata": {},
   "source": [
    "### Create  BCC Structure\n",
    "\n",
    "Let's mess around with the BCC structure. This is the simplest rendering and uses the style `seaborn-whitegrid` for improved visualization. Looks pretty good - although I'm not sure why the axis labels always render first in green, or why the axis label positions sit essentially on top of the ticks themselves."
   ]
  },
  {
   "cell_type": "code",
   "execution_count": null,
   "metadata": {},
   "outputs": [],
   "source": [
    "#Positions for BCC crystal\n",
    "x = np.array([0.,1.,0.,0.,1.,1.,0.,1.,0.5])\n",
    "y = np.array([0.,0.,1.,0.,1.,0.,1.,1.,0.5])\n",
    "z = np.array([0.,0.,0.,1.,0.,1.,1.,1.,0.5])\n",
    "\n",
    "fig = ipv.figure()\n",
    "p3.style.use('seaborn-whitegrid') #Add a style for better visualization\n",
    "BCCCrystal=p3.scatter(x, y, z, marker='sphere', color='blue', size=10)\n",
    "p3.xyzlim(-0.5, 1.5)\n",
    "p3.show()"
   ]
  },
  {
   "cell_type": "markdown",
   "metadata": {},
   "source": [
    "### Add Lines for Unit Cell\n",
    "\n",
    "2018-08-06\n",
    "\n",
    "This is good for now, but it should be cleaner. There's only 8 points! I should need to type in an extra vertex for each line!\n",
    "\n",
    "1. `wireframe` might serve to better render this.\n",
    "2. We can also probably expore whether we can show bonds/coordination with this type of syntax."
   ]
  },
  {
   "cell_type": "code",
   "execution_count": 3,
   "metadata": {
    "extensions": {
     "jupyter_dashboards": {
      "version": 1,
      "views": {
       "grid_default": {
        "col": 5,
        "height": 20,
        "hidden": false,
        "row": 0,
        "width": 5
       },
       "report_default": {}
      }
     }
    }
   },
   "outputs": [
    {
     "data": {
      "application/vnd.jupyter.widget-view+json": {
       "model_id": "479562cfd5b547dab0d97853828c80b6",
       "version_major": 2,
       "version_minor": 0
      },
      "text/plain": [
       "VBox(children=(Figure(camera_center=[0.0, 0.0, 0.0], height=500, matrix_projection=[0.0, 0.0, 0.0, 0.0, 0.0, 0…"
      ]
     },
     "metadata": {},
     "output_type": "display_data"
    }
   ],
   "source": [
    "#Define points to draw lines. There is a wirefram command, but I can't get it to work.\n",
    "x1 = np.array([0.,0.,0.,0.,0.,1.,1.,0.,0.,1.,1.,0.,0.,1.,1.,1.,1.])\n",
    "y1 = np.array([0.,1.,1.,0.,0.,0.,0.,0.,0.,0.,1.,1.,1.,1.,1.,1.,0.])\n",
    "z1 = np.array([0.,0.,1.,1.,0.,0.,1.,1.,0.,0.,0.,0.,1.,1.,0.,1.,1.])\n",
    "\n",
    "fig = ipv.figure()\n",
    "p3.style.use('seaborn-whitegrid')\n",
    "BCCCrystal=p3.scatter(x, y, z, marker='sphere', color='blue', size=10)\n",
    "p3.plot(x1,y1,z1, color='black')\n",
    "p3.xyzlim(-0.5, 1.5)\n",
    "p3.show()"
   ]
  },
  {
   "cell_type": "markdown",
   "metadata": {},
   "source": [
    "### Add High-resolution Sphere Option"
   ]
  },
  {
   "cell_type": "markdown",
   "metadata": {},
   "source": [
    "Note that the `.scatter` function has very limited resolution. We'll probably need to utilize `threejs` for volume rendering to make this work the way we want (including textures, transparency, etc). That's fine. Ok, export as .html.\n",
    "\n",
    "Sowell did, however, add a \"sphere_hres\" at some point. This was hard-coded in. Breddels rejected it, although I'm unsure as to why \"Can you remove this, to keep the [pull request] cleaner?\" ([ref](https://github.com/maartenbreddels/ipyvolume/pull/40/commits/5c97a0ad7f724a0ed97ca8ff96afc7c2a43c5637)). We can re-add it ourselves to our source code, but beware updates.\n",
    "\n",
    "I made an attempt to change the file, &aacute; la Sowell, but this seems to require me to use a development installation and access the Javascript. See:\n",
    "\n",
    "> For a development installation (requires npm),\n",
    "\n",
    "~~~~\n",
    "$ git clone https://github.com/maartenbreddels/ipyvolume.git\n",
    "$ cd ipyvolume\n",
    "$ pip install -e .\n",
    "$ jupyter nbextension install --py --symlink --sys-prefix ipyvolume\n",
    "$ jupyter nbextension enable --py --sys-prefix ipyvolume\n",
    "~~~~\n",
    "\n",
    "The other option is to create our own meshed spheres (see below)"
   ]
  },
  {
   "cell_type": "markdown",
   "metadata": {},
   "source": [
    "### Add Rudamentary Camera Control\n",
    "\n",
    "This one is a bit goofy. I can control \"anglex\", \"angley\", and \"anglez\", but how they are rotating actually eludes me. I had to guess-and-check to get a decent starting view. `ipyvolume.view(azimuth,elevation)` should allow me to do this as well, but I can't get full control of the view.\n",
    "\n",
    "This is good enough for now. We really only need a starting point."
   ]
  },
  {
   "cell_type": "code",
   "execution_count": null,
   "metadata": {},
   "outputs": [],
   "source": [
    "fig = ipv.figure()\n",
    "p3.style.use('seaborn-whitegrid')\n",
    "BCCCrystal=p3.scatter(x, y, z, marker='sphere', color='blue', size=10)\n",
    "p3.plot(x1,y1,z1, color='black')\n",
    "p3.xyzlim(-0.5, 1.5)\n",
    "\n",
    "#Camera angles --- apparently these angle commands are obsolete.... but I can't control the view the way I'd like with ipyvolue.view.\n",
    "fig.anglex = -54*np.pi/180 #Seems arbitrary. Covaries with anglez...\n",
    "fig.angley = 60*np.pi/180\n",
    "fig.anglez = 146*np.pi/180\n",
    "p3.show()"
   ]
  },
  {
   "cell_type": "markdown",
   "metadata": {
    "extensions": {
     "jupyter_dashboards": {
      "version": 1,
      "views": {
       "grid_default": {
        "hidden": true
       },
       "report_default": {}
      }
     }
    }
   },
   "source": [
    "\n",
    "### Rudamentary Widget Control\n",
    "\n",
    "(2018-08-06)\n",
    "\n",
    "Enabled some good widget control. We should be able to expand this to whatever we'd like to control. Need to think about other widget possibilities:\n",
    "\n",
    "1. Buttons to control visibility of atoms.\n",
    "2. Transparency (after it is enabled)\n",
    "3. Slicing - I don't know if this is possible yet.\n",
    "4. Phase transformations: operate on an array with a tensor; e.g., a Bain model for a martinsitic phase transformation (I've don this in _Mathematica_)."
   ]
  },
  {
   "cell_type": "code",
   "execution_count": 5,
   "metadata": {
    "extensions": {
     "jupyter_dashboards": {
      "version": 1,
      "views": {
       "grid_default": {
        "hidden": true
       },
       "report_default": {
        "hidden": true
       }
      }
     }
    }
   },
   "outputs": [
    {
     "data": {
      "application/vnd.jupyter.widget-view+json": {
       "model_id": "eb13ffd13e8a450eb9f2acdfacfdb790",
       "version_major": 2,
       "version_minor": 0
      },
      "text/plain": [
       "VBox(children=(VBox(children=(Figure(anglex=-0.9424777960769379, angley=1.0471975511965976, anglez=2.548180707…"
      ]
     },
     "metadata": {},
     "output_type": "display_data"
    }
   ],
   "source": [
    "fig = ipv.figure()\n",
    "p3.style.use('seaborn-whitegrid')\n",
    "BCCCrystal=p3.scatter(x, y, z, marker='sphere', color='blue', size=10)\n",
    "p3.plot(x1,y1,z1, color='black')\n",
    "p3.xyzlim(-0.5, 1.5)\n",
    "size = widgets.FloatSlider(min=5, max=4/np.sqrt(3)*10, step=0.1)\n",
    "\n",
    "#Camera angles --- apparently these angle commands are obsolete.... but I can't control the view the way I'd like with ipyvolue.view.\n",
    "fig.anglex = -54*np.pi/180 #Seems arbitrary. Covaries with anglez...\n",
    "fig.angley = 60*np.pi/180\n",
    "fig.anglez = 146*np.pi/180\n",
    "\n",
    "\n",
    "widgets.jslink((BCCCrystal, 'size'), (size, 'value'))\n",
    "widgets.VBox([ipv.gcc(), size])"
   ]
  },
  {
   "cell_type": "markdown",
   "metadata": {},
   "source": [
    "### Export to HTML\n",
    "\n",
    "This works. I can upload this with a server and embed into _Canvas_.\n",
    "\n",
    "1. The widget still doesn't export, although it should be able to. I think this has to do with how the media is framed. \n",
    "2. This seems to get complex - we'll have to consider exporting Widget states. [This](http://ipywidgets.readthedocs.io/en/stable/embedding.html) deserves a thorough read.\n",
    "3. What about improved interactivity (Bokah). Breddels explores this [here](https://ipyvolume.readthedocs.io/en/latest/bqplot.html).\n",
    "\n",
    "2018-08-09 - update, Breddels seems to do this easily in a 2017 JupyterCon Presentation, but it doesn't work for me to give Widgets in HTML. Instead, I followed Sewell's example and got it.\n",
    "\n",
    "4. Still can't figure out how to control a transformation slider, though. I can change this after-the-fact: e.g `scatter.x+0.3`. How do get `jslink` to handle that?\n"
   ]
  },
  {
   "cell_type": "code",
   "execution_count": 6,
   "metadata": {},
   "outputs": [
    {
     "data": {
      "application/vnd.jupyter.widget-view+json": {
       "model_id": "98c591e406df4cc0bcc4eb63203a1ee9",
       "version_major": 2,
       "version_minor": 0
      },
      "text/plain": [
       "VBox(children=(VBox(children=(Figure(camera_center=[0.0, 0.0, 0.0], height=500, matrix_projection=[0.0, 0.0, 0…"
      ]
     },
     "metadata": {},
     "output_type": "display_data"
    }
   ],
   "source": [
    "ipv.figure()\n",
    "N = 100\n",
    "x, y, z = np.random.random((3, N))\n",
    "fig=ipv.figure()\n",
    "scatter = ipv.scatter(x, y, z, color='orange', marker='sphere')\n",
    "\n",
    "color_picker = widgets.ColorPicker(description='Color')\n",
    "size_slider = widgets.FloatSlider(min=0.1, max=5, description='Size')\n",
    "#ttranslate_slider = widgets.FloatSlider(min=0.0, max=1, value=scatter.x, description='Offset')\n",
    "widgets.jslink((scatter, 'color'), (color_picker, 'value'))\n",
    "widgets.jslink((scatter, 'size'), (size_slider, 'value'))\n",
    "#widgets.jslink((scatter, 'x'), (translate_slider, 'value'))\n",
    "asdf=widgets.VBox([ipv.gcc(), scatter, size_slider, color_picker])\n",
    "asdf"
   ]
  },
  {
   "cell_type": "code",
   "execution_count": 7,
   "metadata": {},
   "outputs": [],
   "source": [
    "ipv.embed.embed_html('test5.html',\n",
    "    [asdf],template_options={\"embed_url\":'embed.js'})"
   ]
  },
  {
   "cell_type": "markdown",
   "metadata": {},
   "source": [
    "Great, so let's make an FCC structure for use in _Canvas_:"
   ]
  },
  {
   "cell_type": "code",
   "execution_count": 15,
   "metadata": {},
   "outputs": [
    {
     "data": {
      "application/vnd.jupyter.widget-view+json": {
       "model_id": "e0cc04c0a61d4f39958502378a425b60",
       "version_major": 2,
       "version_minor": 0
      },
      "text/plain": [
       "VBox(children=(Figure(camera_center=[0.0, 0.0, 0.0], height=500, matrix_projection=[0.0, 0.0, 0.0, 0.0, 0.0, 0…"
      ]
     },
     "metadata": {},
     "output_type": "display_data"
    }
   ],
   "source": [
    "xFCC = np.array([0.,1.,0.,0.,1.,1.,0.,1.,0.5,0.5,0.0,1.0,0.5,0.5])\n",
    "yFCC = np.array([0.,0.,1.,0.,1.,0.,1.,1.,0.5,0.0,0.5,0.5,1.0,0.5])\n",
    "zFCC = np.array([0.,0.,0.,1.,0.,1.,1.,1.,0.0,0.5,0.5,0.5,0.5,1.0])\n",
    "\n",
    "fig = ipv.figure()\n",
    "p3.style.use('seaborn-whitegrid')\n",
    "BCCCrystal=p3.scatter(xFCC, yFCC, zFCC, marker='sphere', color='blue', size=10)\n",
    "p3.plot(x1,y1,z1, color='black')\n",
    "p3.xyzlim(-0.5, 1.5)\n",
    "p3.show()"
   ]
  },
  {
   "cell_type": "markdown",
   "metadata": {},
   "source": [
    "### Enable Color and Transparency\n",
    "\n",
    "Color in `.scatter` is easy. Transparency is not.\n",
    "\n",
    "Sewell has many of the same goals as us and discusses them [here](https://github.com/maartenbreddels/ipyvolume/issues/37). Some of those have been solved, but \"better control of spheres\" is important. Breddels says the best way to do this is to use `pythreejs`: https://github.com/jupyter-widgets/pythreejs/issues/109."
   ]
  },
  {
   "cell_type": "markdown",
   "metadata": {},
   "source": [
    "### Create Our Own Primitives\n",
    "\n",
    "This needs the most work, but we should probably create our shapes. Here is a start, but this should allow us to have full control over what we want to plot. Lots of good examples.\n",
    "\n",
    "1. Need to close up that sphere! (Solved, 2018-08-07)\n",
    "2. Get more spheres! (Solved, 2018-08-07. No problem.)\n",
    "3. Need to control transparency. Can this be done through `matplotlib.colors`?\n",
    "4. Need to actually create a primitive with `def`. "
   ]
  },
  {
   "cell_type": "code",
   "execution_count": 9,
   "metadata": {},
   "outputs": [
    {
     "data": {
      "application/vnd.jupyter.widget-view+json": {
       "model_id": "c5250a56f037471d945d0f1f0521b127",
       "version_major": 2,
       "version_minor": 0
      },
      "text/plain": [
       "VBox(children=(Figure(anglex=-0.9424777960769379, angley=1.0471975511965976, anglez=2.548180707911721, camera_…"
      ]
     },
     "metadata": {},
     "output_type": "display_data"
    }
   ],
   "source": [
    "#Define mesh grid in spherical coordinates\n",
    "r = 0.5\n",
    "thetavec = np.arange(0,np.pi+np.pi/60,np.pi/60) #Create theta vector, resolution is pi/40. Added one extra step to close sphere.\n",
    "phivec = np.arange(0,2*np.pi,np.pi/60) #Create phi vector, resolution is pi/20.\n",
    "th, ph = np.meshgrid(thetavec, phivec)\n",
    "\n",
    "X = r*np.sin(th)*np.cos(ph)\n",
    "Y = r*np.sin(th)*np.sin(ph)\n",
    "Z = r*np.cos(th)\n",
    "\n",
    "X1 = r*np.sin(th)*np.cos(ph)-1\n",
    "Y1 = r*np.sin(th)*np.sin(ph)\n",
    "Z1 = r*np.cos(th)\n",
    "\n",
    "# Playing around with colormaps from matplotlib, although I need to figure out transparencies - need to activate an alpha channel? \n",
    "# This doesn't seem to be an option in the plot_surface function, but we were able to define color via cm in matplot lib,\n",
    "# so in principle we can use the same idea to define an alpha channel... can't get it, though.\n",
    "from matplotlib import cm\n",
    "from matplotlib.colors import ListedColormap\n",
    "\n",
    "\n",
    "fig1 = p3.figure()\n",
    "p3.xyzlim(-2, 2)\n",
    "p3.plot_mesh(X, Z, Y, color='blue', wireframe=False, surface=True,wrapx=True, wrapy=False)\n",
    "p3.plot_mesh(X1, Z1, Y1, color = '#1AFFFFFF', wireframe=False, surface=True,wrapx=True, wrapy=False)\n",
    "#Camera angles --- apparently these angle commands are obsolete.... but I can't control the view the way I'd like with ipyvolue.view.\n",
    "fig1.anglex = -54*np.pi/180 #Seems arbitrary. Covaries with anglez...\n",
    "fig1.angley = 60*np.pi/180\n",
    "fig1.anglez = 146*np.pi/180\n",
    "p3.show()\n"
   ]
  },
  {
   "cell_type": "code",
   "execution_count": 10,
   "metadata": {},
   "outputs": [
    {
     "data": {
      "application/vnd.jupyter.widget-view+json": {
       "model_id": "43ffc3166f184921ac86cd1b4e3bc1d7",
       "version_major": 2,
       "version_minor": 0
      },
      "text/plain": [
       "VBox(children=(VBox(children=(HBox(children=(Label(value='levels:'), FloatSlider(value=0.1, max=1.0, step=0.00…"
      ]
     },
     "metadata": {},
     "output_type": "display_data"
    },
    {
     "data": {
      "application/vnd.jupyter.widget-view+json": {
       "model_id": "48f63077c0a2481fbc341fcd4803c766",
       "version_major": 2,
       "version_minor": 0
      },
      "text/plain": [
       "Figure(camera_center=[0.0, 0.0, 0.0], data_max=0.3977156738158594, height=500, matrix_projection=[0.0, 0.0, 0.…"
      ]
     },
     "metadata": {},
     "output_type": "display_data"
    }
   ],
   "source": [
    "ipv.pylab.clear()\n",
    "ipv.examples.example_ylm(shape=256)"
   ]
  },
  {
   "cell_type": "markdown",
   "metadata": {},
   "source": [
    "# Access Command in Sub-directory"
   ]
  },
  {
   "cell_type": "code",
   "execution_count": 11,
   "metadata": {},
   "outputs": [
    {
     "data": {
      "application/vnd.jupyter.widget-view+json": {
       "model_id": "a9d77c9c026f4f94b7b6bd966278b377",
       "version_major": 2,
       "version_minor": 0
      },
      "text/plain": [
       "VBox(children=(Figure(camera=PerspectiveCamera(aspect=0.8, fov=46.0, matrixWorldNeedsUpdate=True, position=(0.…"
      ]
     },
     "metadata": {},
     "output_type": "display_data"
    }
   ],
   "source": [
    "from StructureLibrary.structures import FCC\n",
    "FCC(2,2,2)"
   ]
  },
  {
   "cell_type": "code",
   "execution_count": null,
   "metadata": {},
   "outputs": [],
   "source": []
  }
 ],
 "metadata": {
  "extensions": {
   "jupyter_dashboards": {
    "activeView": "grid_default",
    "version": 1,
    "views": {
     "grid_default": {
      "cellMargin": 10,
      "defaultCellHeight": 20,
      "maxColumns": 12,
      "name": "grid",
      "type": "grid"
     },
     "report_default": {
      "name": "report",
      "type": "report"
     }
    }
   }
  },
  "hide_input": false,
  "kernelspec": {
   "display_name": "Python 3",
   "language": "python",
   "name": "python3"
  },
  "language_info": {
   "codemirror_mode": {
    "name": "ipython",
    "version": 3
   },
   "file_extension": ".py",
   "mimetype": "text/x-python",
   "name": "python",
   "nbconvert_exporter": "python",
   "pygments_lexer": "ipython3",
   "version": "3.7.1"
  },
  "latex_envs": {
   "LaTeX_envs_menu_present": true,
   "autoclose": false,
   "autocomplete": true,
   "bibliofile": "biblio.bib",
   "cite_by": "apalike",
   "current_citInitial": 1,
   "eqLabelWithNumbers": true,
   "eqNumInitial": 1,
   "hotkeys": {
    "equation": "Ctrl-E",
    "itemize": "Ctrl-I"
   },
   "labels_anchors": false,
   "latex_user_defs": false,
   "report_style_numbering": false,
   "user_envs_cfg": false
  },
  "widgets": {
   "application/vnd.jupyter.widget-state+json": {
    "state": {
     "15db8d908c3342638252755b2ca2fcd7": {
      "model_module": "@jupyter-widgets/controls",
      "model_module_version": "1.2.0",
      "model_name": "SliderStyleModel",
      "state": {
       "description_width": ""
      }
     },
     "1e4e056bda9a4e5eb8cc975367deb02f": {
      "model_module": "@jupyter-widgets/controls",
      "model_module_version": "1.2.0",
      "model_name": "FloatSliderModel",
      "state": {
       "layout": "IPY_MODEL_99afbc9e43604b019e9db3929e2fdfea",
       "max": 50,
       "step": 0.1,
       "style": "IPY_MODEL_15db8d908c3342638252755b2ca2fcd7",
       "value": 10
      }
     },
     "247f2ae6e53a407f9ebf4ecdf871c854": {
      "model_module": "@jupyter-widgets/controls",
      "model_module_version": "1.2.0",
      "model_name": "SliderStyleModel",
      "state": {
       "description_width": ""
      }
     },
     "303755fc7ed54edbb5d406ea49ceb44e": {
      "model_module": "@jupyter-widgets/controls",
      "model_module_version": "1.2.0",
      "model_name": "FloatSliderModel",
      "state": {
       "layout": "IPY_MODEL_f9afb3bd6efe45c785d86ac30b5b0900",
       "max": 50,
       "step": 0.1,
       "style": "IPY_MODEL_55321b2e58b344c9a30af1ec85672948",
       "value": 10
      }
     },
     "42a311164a804da2b0b3a5ef56ca3f6e": {
      "model_module": "@jupyter-widgets/controls",
      "model_module_version": "1.2.0",
      "model_name": "LinkModel",
      "state": {
       "source": [
        "IPY_MODEL_c0f7be0cb1c24ae1b0c1ba689b84c8ab",
        "size"
       ],
       "target": [
        "IPY_MODEL_a509a42cc55a4c91b2f9f59faa22a358",
        "value"
       ]
      }
     },
     "4df032b86810426487001ecb3db45bd9": {
      "buffers": [
       {
        "data": "AAAAAAAAgD8AAAAAAAAAAAAAgD8AAIA/AAAAAAAAgD8=",
        "encoding": "base64",
        "path": [
         "x",
         0,
         "buffer"
        ]
       },
       {
        "data": "AAAAAAAAAAAAAIA/AAAAAAAAgD8AAAAAAACAPwAAgD8=",
        "encoding": "base64",
        "path": [
         "y",
         0,
         "buffer"
        ]
       },
       {
        "data": "AAAAAAAAAAAAAAAAAACAPwAAAAAAAIA/AACAPwAAgD8=",
        "encoding": "base64",
        "path": [
         "z",
         0,
         "buffer"
        ]
       }
      ],
      "model_module": "ipyvolume",
      "model_module_version": "~0.4.5",
      "model_name": "ScatterModel",
      "state": {
       "_dom_classes": [],
       "color": "blue",
       "geo": "sphere",
       "layout": "IPY_MODEL_f6788b353c4f4e2d923743551645fcc0",
       "selected": null,
       "size": 10,
       "size_selected": 2.6,
       "visible": true,
       "visible_lines": false,
       "visible_markers": true,
       "vx": null,
       "vy": null,
       "vz": null,
       "x": [
        {
         "buffer": {},
         "dtype": "float32",
         "shape": [
          8
         ]
        }
       ],
       "y": [
        {
         "buffer": {},
         "dtype": "float32",
         "shape": [
          8
         ]
        }
       ],
       "z": [
        {
         "buffer": {},
         "dtype": "float32",
         "shape": [
          8
         ]
        }
       ]
      }
     },
     "55321b2e58b344c9a30af1ec85672948": {
      "model_module": "@jupyter-widgets/controls",
      "model_module_version": "1.2.0",
      "model_name": "SliderStyleModel",
      "state": {
       "description_width": ""
      }
     },
     "60b055a700874aca9456fc1561e1551c": {
      "model_module": "ipyvolume",
      "model_module_version": "~0.4.5",
      "model_name": "FigureModel",
      "state": {
       "anglex": -1.3693105817219449,
       "angley": 0.19903364241890004,
       "anglez": -1.5468259317349242,
       "data_max": 0,
       "data_min": 0,
       "height": 500,
       "layout": "IPY_MODEL_c105384889034abdbb02ac7c1254d6ee",
       "matrix_projection": [
        3.017766952966369,
        0,
        0,
        0,
        0,
        2.414213562373095,
        0,
        0,
        0,
        0,
        -1.000002000002,
        -1,
        0,
        0,
        -0.02000002000002,
        0
       ],
       "matrix_world": [
        0.023494923954549427,
        0.979976501020859,
        0.19772214341161912,
        0,
        -0.20471090397719213,
        -0.1888700150714455,
        0.9604278021797126,
        0,
        0.978540461269339,
        -0.06304105689014794,
        0.1961743887589875,
        0,
        -0.39866224062334815,
        -0.364032714529633,
        -4.553476087352461,
        1.0000000000000002
       ],
       "meshes": [],
       "scatters": [
        "IPY_MODEL_4df032b86810426487001ecb3db45bd9",
        "IPY_MODEL_64e3f9aa7ce74eee962a615a44c0a79a",
        "IPY_MODEL_c0f7be0cb1c24ae1b0c1ba689b84c8ab"
       ],
       "tf": null,
       "volume_data": null,
       "width": 400
      }
     },
     "61b3a1bed3df4298992438549cbe2c32": {
      "model_module": "@jupyter-widgets/base",
      "model_module_version": "1.0.0",
      "model_name": "LayoutModel",
      "state": {}
     },
     "6417e43638f9449b898a6096a6592384": {
      "model_module": "@jupyter-widgets/controls",
      "model_module_version": "1.2.0",
      "model_name": "VBoxModel",
      "state": {
       "children": [
        "IPY_MODEL_7622615758f34807bf5fc4f8e8ae8684",
        "IPY_MODEL_a509a42cc55a4c91b2f9f59faa22a358"
       ],
       "layout": "IPY_MODEL_e73ae4a83bb741daab8a6d12d8fb5b08"
      }
     },
     "64e3f9aa7ce74eee962a615a44c0a79a": {
      "buffers": [
       {
        "data": "AAAAAAAAgD8AAAAAAAAAAAAAgD8AAIA/AAAAAAAAgD8=",
        "encoding": "base64",
        "path": [
         "x",
         0,
         "buffer"
        ]
       },
       {
        "data": "AAAAAAAAAAAAAIA/AAAAAAAAgD8AAAAAAACAPwAAgD8=",
        "encoding": "base64",
        "path": [
         "y",
         0,
         "buffer"
        ]
       },
       {
        "data": "AAAAAAAAAAAAAAAAAACAPwAAAAAAAIA/AACAPwAAgD8=",
        "encoding": "base64",
        "path": [
         "z",
         0,
         "buffer"
        ]
       }
      ],
      "model_module": "ipyvolume",
      "model_module_version": "~0.4.5",
      "model_name": "ScatterModel",
      "state": {
       "_dom_classes": [],
       "color": "blue",
       "geo": "sphere",
       "layout": "IPY_MODEL_61b3a1bed3df4298992438549cbe2c32",
       "selected": null,
       "size": 10,
       "size_selected": 2.6,
       "visible": true,
       "visible_lines": false,
       "visible_markers": true,
       "vx": null,
       "vy": null,
       "vz": null,
       "x": [
        {
         "buffer": {},
         "dtype": "float32",
         "shape": [
          8
         ]
        }
       ],
       "y": [
        {
         "buffer": {},
         "dtype": "float32",
         "shape": [
          8
         ]
        }
       ],
       "z": [
        {
         "buffer": {},
         "dtype": "float32",
         "shape": [
          8
         ]
        }
       ]
      }
     },
     "7264d6f3f1d74fc6bf8e3260371b2169": {
      "model_module": "@jupyter-widgets/base",
      "model_module_version": "1.0.0",
      "model_name": "LayoutModel",
      "state": {}
     },
     "7622615758f34807bf5fc4f8e8ae8684": {
      "model_module": "@jupyter-widgets/controls",
      "model_module_version": "1.2.0",
      "model_name": "VBoxModel",
      "state": {
       "children": [
        "IPY_MODEL_60b055a700874aca9456fc1561e1551c"
       ],
       "layout": "IPY_MODEL_c74ba87cb020475287d509b6169c98a4"
      }
     },
     "930958ed3ee848a2a43ad9affa9306fc": {
      "model_module": "@jupyter-widgets/controls",
      "model_module_version": "1.2.0",
      "model_name": "LinkModel",
      "state": {
       "source": [
        "IPY_MODEL_64e3f9aa7ce74eee962a615a44c0a79a",
        "size"
       ],
       "target": [
        "IPY_MODEL_303755fc7ed54edbb5d406ea49ceb44e",
        "value"
       ]
      }
     },
     "959c8ad24fea41d28a6117d536c56477": {
      "model_module": "@jupyter-widgets/base",
      "model_module_version": "1.0.0",
      "model_name": "LayoutModel",
      "state": {}
     },
     "9851838c98514cec8b7e814c3f181edc": {
      "model_module": "@jupyter-widgets/base",
      "model_module_version": "1.0.0",
      "model_name": "LayoutModel",
      "state": {}
     },
     "99afbc9e43604b019e9db3929e2fdfea": {
      "model_module": "@jupyter-widgets/base",
      "model_module_version": "1.0.0",
      "model_name": "LayoutModel",
      "state": {}
     },
     "a509a42cc55a4c91b2f9f59faa22a358": {
      "model_module": "@jupyter-widgets/controls",
      "model_module_version": "1.2.0",
      "model_name": "FloatSliderModel",
      "state": {
       "layout": "IPY_MODEL_9851838c98514cec8b7e814c3f181edc",
       "max": 50,
       "step": 0.1,
       "style": "IPY_MODEL_247f2ae6e53a407f9ebf4ecdf871c854",
       "value": 27.2
      }
     },
     "b17962e26ed046b9a325bcc77138a4ec": {
      "model_module": "@jupyter-widgets/controls",
      "model_module_version": "1.2.0",
      "model_name": "LinkModel",
      "state": {
       "source": [
        "IPY_MODEL_4df032b86810426487001ecb3db45bd9",
        "size"
       ],
       "target": [
        "IPY_MODEL_1e4e056bda9a4e5eb8cc975367deb02f",
        "value"
       ]
      }
     },
     "bf5edf89f7f9430095488eb4e94e59bf": {
      "model_module": "@jupyter-widgets/controls",
      "model_module_version": "1.2.0",
      "model_name": "VBoxModel",
      "state": {
       "children": [
        "IPY_MODEL_7622615758f34807bf5fc4f8e8ae8684",
        "IPY_MODEL_303755fc7ed54edbb5d406ea49ceb44e"
       ],
       "layout": "IPY_MODEL_7264d6f3f1d74fc6bf8e3260371b2169"
      }
     },
     "c0f7be0cb1c24ae1b0c1ba689b84c8ab": {
      "buffers": [
       {
        "data": "AAAAAAAAgD8AAAAAAAAAAAAAgD8AAIA/AAAAAAAAgD8=",
        "encoding": "base64",
        "path": [
         "x",
         0,
         "buffer"
        ]
       },
       {
        "data": "AAAAAAAAAAAAAIA/AAAAAAAAgD8AAAAAAACAPwAAgD8=",
        "encoding": "base64",
        "path": [
         "y",
         0,
         "buffer"
        ]
       },
       {
        "data": "AAAAAAAAAAAAAAAAAACAPwAAAAAAAIA/AACAPwAAgD8=",
        "encoding": "base64",
        "path": [
         "z",
         0,
         "buffer"
        ]
       }
      ],
      "model_module": "ipyvolume",
      "model_module_version": "~0.4.5",
      "model_name": "ScatterModel",
      "state": {
       "_dom_classes": [],
       "color": "blue",
       "geo": "sphere",
       "layout": "IPY_MODEL_959c8ad24fea41d28a6117d536c56477",
       "selected": null,
       "size": 27.2,
       "size_selected": 2.6,
       "visible": true,
       "visible_lines": false,
       "visible_markers": true,
       "vx": null,
       "vy": null,
       "vz": null,
       "x": [
        {
         "buffer": {},
         "dtype": "float32",
         "shape": [
          8
         ]
        }
       ],
       "y": [
        {
         "buffer": {},
         "dtype": "float32",
         "shape": [
          8
         ]
        }
       ],
       "z": [
        {
         "buffer": {},
         "dtype": "float32",
         "shape": [
          8
         ]
        }
       ]
      }
     },
     "c105384889034abdbb02ac7c1254d6ee": {
      "model_module": "@jupyter-widgets/base",
      "model_module_version": "1.0.0",
      "model_name": "LayoutModel",
      "state": {}
     },
     "c74ba87cb020475287d509b6169c98a4": {
      "model_module": "@jupyter-widgets/base",
      "model_module_version": "1.0.0",
      "model_name": "LayoutModel",
      "state": {}
     },
     "e73ae4a83bb741daab8a6d12d8fb5b08": {
      "model_module": "@jupyter-widgets/base",
      "model_module_version": "1.0.0",
      "model_name": "LayoutModel",
      "state": {}
     },
     "f6788b353c4f4e2d923743551645fcc0": {
      "model_module": "@jupyter-widgets/base",
      "model_module_version": "1.0.0",
      "model_name": "LayoutModel",
      "state": {}
     },
     "f9afb3bd6efe45c785d86ac30b5b0900": {
      "model_module": "@jupyter-widgets/base",
      "model_module_version": "1.0.0",
      "model_name": "LayoutModel",
      "state": {}
     }
    },
    "version_major": 2,
    "version_minor": 0
   }
  }
 },
 "nbformat": 4,
 "nbformat_minor": 2
}
