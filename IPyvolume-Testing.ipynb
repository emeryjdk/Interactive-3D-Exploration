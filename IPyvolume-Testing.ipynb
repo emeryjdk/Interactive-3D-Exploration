{
 "cells": [
  {
   "cell_type": "markdown",
   "metadata": {},
   "source": [
    "# First Attempt Create Sphere array.\n",
    "\n",
    "Try to create surfaces using meshes consisting of triangles. Using http://ipyvolume.readthedocs.io/en/latest/mesh.html as a source.\n",
    "\n",
    "Load up both  `ipyvolume.pylab`and `numpy` "
   ]
  },
  {
   "cell_type": "code",
   "execution_count": 66,
   "metadata": {},
   "outputs": [],
   "source": [
    "import ipyvolume.pylab as p3\n",
    "import numpy as np\n",
    "import matplotlib.pyplot as plt"
   ]
  },
  {
   "cell_type": "markdown",
   "metadata": {},
   "source": [
    "It looks like if we want to create surfaces and crystal structures, we'll want to be using surface plots. We can still call things such as spheres, here. The question is, can we control the shape/size/transparency of the spheres?\n",
    "\n",
    "First, lets define a tetrahedral with $x$, $y$, and $z$ arrays defining the vertices. How does \"triangles\" know about the vertex indices? I guess this gets called during `p3.plot_trisurf`, where the arrays are called and then the drawing of the triangles is defined base on those arrays? E.g., \"from 0 $\\rightarrow$  1 $\\rightarrow$  2\" is \"(1,0,-s) $\\rightarrow$ (-1,0,-s) $\\rightarrow$  (0,1,s)\". That's hard-coded and could be permuted."
   ]
  },
  {
   "cell_type": "code",
   "execution_count": 13,
   "metadata": {},
   "outputs": [],
   "source": [
    "s = 1/2**0.5\n",
    "# 4 vertices for the tetrahedron\n",
    "x = np.array([1.,  -1, 0,  0])\n",
    "y = np.array([0,   0, 1., -1])\n",
    "z = np.array([-s, -s, s,  s])\n",
    "# and 4 surfaces (triangles), where the number refer to the vertex index\n",
    "triangles = [(0, 1, 2), (0, 1, 3), (0, 2, 3), (1,3,2)]"
   ]
  },
  {
   "cell_type": "code",
   "execution_count": 14,
   "metadata": {},
   "outputs": [
    {
     "data": {
      "application/vnd.jupyter.widget-view+json": {
       "model_id": "8b01bfb3a9bc4e4fa048605b43fd2e1d",
       "version_major": 2,
       "version_minor": 0
      },
      "text/plain": [
       "VBox(children=(Figure(camera_center=[0.0, 0.0, 0.0], height=500, matrix_projection=[0.0, 0.0, 0.0, 0.0, 0.0, 0…"
      ]
     },
     "metadata": {},
     "output_type": "display_data"
    },
    {
     "name": "stdout",
     "output_type": "stream",
     "text": [
      "[ 1. -1.  0.  0.]\n"
     ]
    }
   ],
   "source": [
    "p3.figure()\n",
    "# we draw the tetrahedron\n",
    "p3.plot_trisurf(x, y, z, triangles=triangles, color='orange')\n",
    "# and also mark the vertices\n",
    "p3.scatter(x, y, z, marker='sphere', color='blue')\n",
    "p3.xyzlim(-1.5, 1.5)\n",
    "p3.show()\n",
    "print(x)"
   ]
  },
  {
   "cell_type": "markdown",
   "metadata": {},
   "source": [
    "So, if I understand the `p3.scatter` command, we have sphere markers at each point in our array. We'll have to define our crystals in the correct $x$, $y$, $z$ order, then. That way of defining the array seems a bit backwards to me... check out what we can do with `p3.scatter` and all the other Widgety things we can do."
   ]
  },
  {
   "cell_type": "code",
   "execution_count": 27,
   "metadata": {},
   "outputs": [
    {
     "data": {
      "application/vnd.jupyter.widget-view+json": {
       "model_id": "7fdd5dc99ed9432ab042cc7679d6c06d",
       "version_major": 2,
       "version_minor": 0
      },
      "text/plain": [
       "Scatter(color=array('blue', dtype='<U4'), color_selected=array('white', dtype='<U5'), geo='sphere', size=array…"
      ]
     },
     "metadata": {},
     "output_type": "display_data"
    }
   ],
   "source": [
    "p3.scatter(x, y, z, marker='sphere', color='blue')\n"
   ]
  },
  {
   "cell_type": "markdown",
   "metadata": {},
   "source": [
    "Alright, great. I can make a tetrahedron. Let's try to make a simple cubic structure. Need 8 atoms  with $x,y,z$ positions:\n",
    "\n",
    "| $x$ | $y$ | $z$ | $qrs$ |\n",
    "| --- |---| ---| ---- |\n",
    "| 0 |  0 | 0 | 000 |\n",
    "| 1 |  0 | 0 | 100 |\n",
    "| 0 |  1 | 0 | 010 |\n",
    "| 0 |  0 | 1 | 001 |\n",
    "| 1 |  1 | 0 | 110 |\n",
    "| 1 |  0 | 1 | 101 |\n",
    "| 0 |  1 | 1 | 011 |\n",
    "| 1 |  1 | 1 | 111 |\n"
   ]
  },
  {
   "cell_type": "code",
   "execution_count": 16,
   "metadata": {},
   "outputs": [
    {
     "data": {
      "application/vnd.jupyter.widget-view+json": {
       "model_id": "f0d84e1361f64a7bb95dcab3d27132a2",
       "version_major": 2,
       "version_minor": 0
      },
      "text/plain": [
       "VBox(children=(Figure(camera_center=[0.0, 0.0, 0.0], height=500, matrix_projection=[0.0, 0.0, 0.0, 0.0, 0.0, 0…"
      ]
     },
     "metadata": {},
     "output_type": "display_data"
    },
    {
     "name": "stdout",
     "output_type": "stream",
     "text": [
      "[0. 1. 0. 0. 1. 1. 0. 1.]\n"
     ]
    }
   ],
   "source": [
    "x = np.array([0.,1.,0.,0.,1.,1.,0.,1.])\n",
    "y = np.array([0.,0.,1.,0.,1.,0.,1.,1.])\n",
    "z = np.array([0.,0.,0.,1.,0.,1.,1.,1.])\n",
    "# Can I do edges using squares to make a unit cell? It doesn't seem so... the plot_trisurf function is tinangle-specific.\n",
    "# squares = [(0, 1, 2, 3)]\n",
    "\n",
    "p3.figure()\n",
    "p3.scatter(x, y, z, marker='sphere', color='blue')\n",
    "p3.xyzlim(0, 1)\n",
    "p3.show()\n",
    "print(x)"
   ]
  },
  {
   "cell_type": "markdown",
   "metadata": {},
   "source": [
    "Alright, mild success. I've got a rotatable graphic with spheres located at the corners of a box. I need to figure out how to control:\n",
    "\n",
    "- Size\n",
    "- Labels\n",
    "- Font\n",
    "- Transparency (possible with scatter)\n",
    "- Widget controls\n",
    "\n",
    "I will quickly try to make a parameteric plot of a sphere because I think there may be limitations in what I can do with a scatter plot, but not with what I can do with a surface plot."
   ]
  },
  {
   "cell_type": "code",
   "execution_count": 55,
   "metadata": {},
   "outputs": [
    {
     "name": "stderr",
     "output_type": "stream",
     "text": [
      "C:\\Users\\jde621\\AppData\\Local\\Continuum\\anaconda3\\lib\\site-packages\\ipykernel_launcher.py:6: RuntimeWarning: invalid value encountered in sqrt\n",
      "  \n"
     ]
    },
    {
     "data": {
      "application/vnd.jupyter.widget-view+json": {
       "model_id": "f48dbd69ddf3423abcef46717ff43879",
       "version_major": 2,
       "version_minor": 0
      },
      "text/plain": [
       "VBox(children=(Figure(camera_center=[0.0, 0.0, 0.0], height=500, matrix_projection=[0.0, 0.0, 0.0, 0.0, 0.0, 0…"
      ]
     },
     "metadata": {},
     "output_type": "display_data"
    }
   ],
   "source": [
    "#Define mesh grid\n",
    "r = 2\n",
    "U = np.arange(-5, 5,0.25)\n",
    "V = np.arange(-5, 5,0.25)\n",
    "X, Y = np.meshgrid(U, V)\n",
    "Z = np.sqrt(r**2 - X**2 -Y**2)\n",
    "\n",
    "p3.figure()\n",
    "p3.plot_surface(X, Z, Y, color=\"orange\")\n",
    "#p3.plot_wireframe(X, Z, Y, color=\"black\")\n",
    "p3.xyzlim(-5, 5)\n",
    "p3.show()\n"
   ]
  },
  {
   "cell_type": "markdown",
   "metadata": {},
   "source": [
    "Ugh... messy because of the $\\sqrt{}$ leading to imaginary numbers. Let's solve that with some smartness --- let's use spherical coordinates."
   ]
  },
  {
   "cell_type": "code",
   "execution_count": 89,
   "metadata": {},
   "outputs": [
    {
     "data": {
      "application/vnd.jupyter.widget-view+json": {
       "model_id": "ff28ee72545344efa4d75bf2a71a63ae",
       "version_major": 2,
       "version_minor": 0
      },
      "text/plain": [
       "VBox(children=(Figure(camera_center=[0.0, 0.0, 0.0], height=500, matrix_projection=[0.0, 0.0, 0.0, 0.0, 0.0, 0…"
      ]
     },
     "metadata": {},
     "output_type": "display_data"
    }
   ],
   "source": [
    "#Define mesh grid\n",
    "r = 2\n",
    "thetavec = np.arange(0,np.pi,np.pi/40)\n",
    "phivec = np.arange(0,2*np.pi,np.pi/20)\n",
    "th, ph = np.meshgrid(thetavec, phivec)\n",
    "\n",
    "X = r*np.sin(th)*np.cos(ph)\n",
    "Y = r*np.sin(th)*np.sin(ph)\n",
    "Z = r*np.cos(th)\n",
    "\n",
    "#Playing around with colormaps from matplotlib. But, I should figure out transparencies. Need to activate an alpha channel? \n",
    "#This doesn't seemt o be an option in the plot_surface function, but we were able to define color via cm in matplot lib,\n",
    "#so in principle we can use the same idea to define an alpha channel... can't get it, though.\n",
    "from matplotlib import cm\n",
    "from matplotlib.colors import ListedColormap\n",
    "\n",
    "colormap = cm.coolwarm\n",
    "my_colormap = colormap(np.arange(colormap.N))\n",
    "my_colormap[:,-1] = np.linspace(0,1,colormap.N)\n",
    "my_colormap = ListedColormap(my_colormap)\n",
    "znorm = Z - Z.min()\n",
    "znorm /= znorm.ptp()\n",
    "znorm.min(), znorm.max()\n",
    "color = my_colormap(znorm)\n",
    "\n",
    "p3.figure()\n",
    "p3.plot_surface(X, Z, Y, color=color[...,0:3], wrapx=True, wrapy=False)\n",
    "#Wrapping completes the curcuit, connecting beginning and endpoints.\n",
    "#p3.plot_wireframe(X, Z, Y, color=\"black\")\n",
    "p3.xyzlim(-5, 5)\n",
    "p3.show()"
   ]
  },
  {
   "cell_type": "code",
   "execution_count": null,
   "metadata": {},
   "outputs": [],
   "source": []
  }
 ],
 "metadata": {
  "kernelspec": {
   "display_name": "Python 3",
   "language": "python",
   "name": "python3"
  },
  "language_info": {
   "codemirror_mode": {
    "name": "ipython",
    "version": 3
   },
   "file_extension": ".py",
   "mimetype": "text/x-python",
   "name": "python",
   "nbconvert_exporter": "python",
   "pygments_lexer": "ipython3",
   "version": "3.6.5"
  },
  "latex_envs": {
   "LaTeX_envs_menu_present": true,
   "autoclose": false,
   "autocomplete": true,
   "bibliofile": "biblio.bib",
   "cite_by": "apalike",
   "current_citInitial": 1,
   "eqLabelWithNumbers": true,
   "eqNumInitial": 1,
   "hotkeys": {
    "equation": "Ctrl-E",
    "itemize": "Ctrl-I"
   },
   "labels_anchors": false,
   "latex_user_defs": false,
   "report_style_numbering": false,
   "user_envs_cfg": false
  }
 },
 "nbformat": 4,
 "nbformat_minor": 2
}
